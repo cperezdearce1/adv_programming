{
 "cells": [
  {
   "cell_type": "markdown",
   "metadata": {},
   "source": [
    "# Installing Dependencies\n",
    "Before loading the data, we need to install some dependencies that don’t come by default on Anaconda."
   ]
  },
  {
   "cell_type": "code",
   "execution_count": 48,
   "metadata": {},
   "outputs": [],
   "source": [
    "!pip install pyjanitor pyvis --quiet"
   ]
  },
  {
   "cell_type": "code",
   "execution_count": 49,
   "metadata": {},
   "outputs": [],
   "source": [
    "import pandas as pd\n",
    "import janitor\n",
    "import datetime\n",
    "\n",
    "from IPython.core.display import display, HTML\n",
    "from pyvis import network as net\n",
    "import networkx as nx"
   ]
  },
  {
   "cell_type": "markdown",
   "metadata": {},
   "source": [
    "# Load the Data\n",
    "\n",
    "This is your 'connections.csv' file you downloaded from LinkedIn - the 'skiprows' allows you to skiprows that are not part of your data."
   ]
  },
  {
   "cell_type": "code",
   "execution_count": 50,
   "metadata": {},
   "outputs": [],
   "source": [
    "df_ori = pd.read_csv(\"./linkedin_data/Connections.csv\", skiprows=3) "
   ]
  },
  {
   "cell_type": "code",
   "execution_count": 51,
   "metadata": {},
   "outputs": [
    {
     "name": "stdout",
     "output_type": "stream",
     "text": [
      "<class 'pandas.core.frame.DataFrame'>\n",
      "RangeIndex: 787 entries, 0 to 786\n",
      "Data columns (total 6 columns):\n",
      " #   Column         Non-Null Count  Dtype \n",
      "---  ------         --------------  ----- \n",
      " 0   First Name     786 non-null    object\n",
      " 1   Last Name      786 non-null    object\n",
      " 2   Email Address  20 non-null     object\n",
      " 3   Company        786 non-null    object\n",
      " 4   Position       786 non-null    object\n",
      " 5   Connected On   787 non-null    object\n",
      "dtypes: object(6)\n",
      "memory usage: 37.0+ KB\n"
     ]
    }
   ],
   "source": [
    "df_ori.info()"
   ]
  },
  {
   "cell_type": "markdown",
   "metadata": {},
   "source": [
    "## Data Cleaning"
   ]
  },
  {
   "cell_type": "code",
   "execution_count": 52,
   "metadata": {},
   "outputs": [
    {
     "data": {
      "text/html": [
       "<div>\n",
       "<style scoped>\n",
       "    .dataframe tbody tr th:only-of-type {\n",
       "        vertical-align: middle;\n",
       "    }\n",
       "\n",
       "    .dataframe tbody tr th {\n",
       "        vertical-align: top;\n",
       "    }\n",
       "\n",
       "    .dataframe thead th {\n",
       "        text-align: right;\n",
       "    }\n",
       "</style>\n",
       "<table border=\"1\" class=\"dataframe\">\n",
       "  <thead>\n",
       "    <tr style=\"text-align: right;\">\n",
       "      <th></th>\n",
       "      <th>company</th>\n",
       "      <th>position</th>\n",
       "      <th>connected_on</th>\n",
       "    </tr>\n",
       "  </thead>\n",
       "  <tbody>\n",
       "    <tr>\n",
       "      <th>0</th>\n",
       "      <td>Home365 Property Management</td>\n",
       "      <td>Principal Product Manager</td>\n",
       "      <td>2023-02-14</td>\n",
       "    </tr>\n",
       "    <tr>\n",
       "      <th>1</th>\n",
       "      <td>Canter</td>\n",
       "      <td>Founder &amp; Principal</td>\n",
       "      <td>2023-02-07</td>\n",
       "    </tr>\n",
       "    <tr>\n",
       "      <th>2</th>\n",
       "      <td>American Express</td>\n",
       "      <td>Finance Manager</td>\n",
       "      <td>2023-02-07</td>\n",
       "    </tr>\n",
       "    <tr>\n",
       "      <th>3</th>\n",
       "      <td>Zutto Technologies</td>\n",
       "      <td>Director de nuevos proyectos</td>\n",
       "      <td>2023-02-06</td>\n",
       "    </tr>\n",
       "    <tr>\n",
       "      <th>4</th>\n",
       "      <td>Amateur Fund</td>\n",
       "      <td>Investor</td>\n",
       "      <td>2023-02-05</td>\n",
       "    </tr>\n",
       "  </tbody>\n",
       "</table>\n",
       "</div>"
      ],
      "text/plain": [
       "                       company                      position connected_on\n",
       "0  Home365 Property Management     Principal Product Manager   2023-02-14\n",
       "1                       Canter           Founder & Principal   2023-02-07\n",
       "2             American Express               Finance Manager   2023-02-07\n",
       "3           Zutto Technologies  Director de nuevos proyectos   2023-02-06\n",
       "4                 Amateur Fund                      Investor   2023-02-05"
      ]
     },
     "execution_count": 52,
     "metadata": {},
     "output_type": "execute_result"
    }
   ],
   "source": [
    "# the dot after each new line, means that over the same dataframe, I apply the same method over and over... \n",
    "df = (\n",
    "    df_ori\n",
    "    .clean_names() # remove spacing and capitalization\n",
    "    .drop(columns=['first_name', 'last_name', 'email_address']) # drop for privacy\n",
    "    .dropna(subset=['company', 'position']) # drop missing values in company and position\n",
    "    .to_datetime('connected_on', infer_datetime_format=True)\n",
    "  )\n",
    "df.head()"
   ]
  },
  {
   "cell_type": "code",
   "execution_count": 53,
   "metadata": {},
   "outputs": [],
   "source": [
    "\n",
    "# consolidate the company names within just one name\n",
    "df['company'] = df['company'].replace(['Babson College', 'Babson F.W. Olin Graduate School of Business'], 'Babson College')\n",
    "\n",
    "df['company'] = df['company'].replace(['CIFI - Corporación Interamericana para el Financiamiento de Infraestructura, S.A.'], 'CIFI')\n"
   ]
  },
  {
   "cell_type": "markdown",
   "metadata": {},
   "source": [
    "## Simple EDA"
   ]
  },
  {
   "cell_type": "code",
   "execution_count": 54,
   "metadata": {},
   "outputs": [
    {
     "data": {
      "image/png": "[encoded data removed]",
      "text/plain": [
       "<Figure size 640x480 with 1 Axes>"
      ]
     },
     "metadata": {},
     "output_type": "display_data"
    }
   ],
   "source": [
    "df['company'].value_counts().head(10).plot(kind=\"barh\").invert_yaxis();"
   ]
  },
  {
   "cell_type": "code",
   "execution_count": 55,
   "metadata": {},
   "outputs": [],
   "source": [
    "#df['company'].value_counts().head(10)\n"
   ]
  },
  {
   "cell_type": "code",
   "execution_count": 56,
   "metadata": {},
   "outputs": [
    {
     "data": {
      "image/png": "[encoded data removed]",
      "text/plain": [
       "<Figure size 640x480 with 1 Axes>"
      ]
     },
     "metadata": {},
     "output_type": "display_data"
    }
   ],
   "source": [
    "# consolidate some positions with just one name\n",
    "df['position'] = df['position'].replace(['gerente general', 'Gerente general', 'Gerente General'], 'CEO')\n",
    "df['position'] = df['position'].replace(['socio', 'Socio'], 'Partner')\n",
    "df['position'] = df['position'].replace(['Abogado'], 'Lawyer')\n",
    "df['position'] = df['position'].replace(['Director', 'Director ejecutivo'], 'Board Member')\n",
    "df['position'].value_counts().head(10).plot(kind=\"barh\").invert_yaxis();"
   ]
  },
  {
   "cell_type": "code",
   "execution_count": 57,
   "metadata": {},
   "outputs": [
    {
     "data": {
      "image/png": "[encoded data removed]",
      "text/plain": [
       "<Figure size 640x480 with 1 Axes>"
      ]
     },
     "metadata": {},
     "output_type": "display_data"
    }
   ],
   "source": [
    "df['connected_on'].hist(xrot=35, bins=15);"
   ]
  },
  {
   "cell_type": "markdown",
   "metadata": {},
   "source": [
    "### Remove freelance and self-employed titles"
   ]
  },
  {
   "cell_type": "code",
   "execution_count": 58,
   "metadata": {},
   "outputs": [],
   "source": [
    "pattern = \"freelance|self-employed|Profesional independiente\"\n",
    "df = df[~df['company'].str.contains(pattern, case=False)]"
   ]
  },
  {
   "cell_type": "markdown",
   "metadata": {},
   "source": [
    "## Aggregate sum of connections for companies"
   ]
  },
  {
   "cell_type": "code",
   "execution_count": 59,
   "metadata": {},
   "outputs": [
    {
     "data": {
      "text/html": [
       "<div>\n",
       "<style scoped>\n",
       "    .dataframe tbody tr th:only-of-type {\n",
       "        vertical-align: middle;\n",
       "    }\n",
       "\n",
       "    .dataframe tbody tr th {\n",
       "        vertical-align: top;\n",
       "    }\n",
       "\n",
       "    .dataframe thead th {\n",
       "        text-align: right;\n",
       "    }\n",
       "</style>\n",
       "<table border=\"1\" class=\"dataframe\">\n",
       "  <thead>\n",
       "    <tr style=\"text-align: right;\">\n",
       "      <th></th>\n",
       "      <th>company</th>\n",
       "      <th>count</th>\n",
       "    </tr>\n",
       "  </thead>\n",
       "  <tbody>\n",
       "    <tr>\n",
       "      <th>0</th>\n",
       "      <td>Banchile Inversiones</td>\n",
       "      <td>62</td>\n",
       "    </tr>\n",
       "    <tr>\n",
       "      <th>1</th>\n",
       "      <td>Babson College</td>\n",
       "      <td>42</td>\n",
       "    </tr>\n",
       "    <tr>\n",
       "      <th>2</th>\n",
       "      <td>Columbia Business School</td>\n",
       "      <td>9</td>\n",
       "    </tr>\n",
       "    <tr>\n",
       "      <th>6</th>\n",
       "      <td>LarrainVial</td>\n",
       "      <td>4</td>\n",
       "    </tr>\n",
       "    <tr>\n",
       "      <th>8</th>\n",
       "      <td>IE Business School</td>\n",
       "      <td>4</td>\n",
       "    </tr>\n",
       "    <tr>\n",
       "      <th>7</th>\n",
       "      <td>COPEC S.A.</td>\n",
       "      <td>4</td>\n",
       "    </tr>\n",
       "    <tr>\n",
       "      <th>9</th>\n",
       "      <td>MIT Sloan School of Management</td>\n",
       "      <td>4</td>\n",
       "    </tr>\n",
       "    <tr>\n",
       "      <th>5</th>\n",
       "      <td>BTG Pactual Chile</td>\n",
       "      <td>4</td>\n",
       "    </tr>\n",
       "    <tr>\n",
       "      <th>4</th>\n",
       "      <td>Banco Bci</td>\n",
       "      <td>4</td>\n",
       "    </tr>\n",
       "    <tr>\n",
       "      <th>3</th>\n",
       "      <td>CIFI</td>\n",
       "      <td>4</td>\n",
       "    </tr>\n",
       "  </tbody>\n",
       "</table>\n",
       "</div>"
      ],
      "text/plain": [
       "                          company  count\n",
       "0            Banchile Inversiones     62\n",
       "1                  Babson College     42\n",
       "2        Columbia Business School      9\n",
       "6                     LarrainVial      4\n",
       "8              IE Business School      4\n",
       "7                      COPEC S.A.      4\n",
       "9  MIT Sloan School of Management      4\n",
       "5               BTG Pactual Chile      4\n",
       "4                       Banco Bci      4\n",
       "3                            CIFI      4"
      ]
     },
     "execution_count": 59,
     "metadata": {},
     "output_type": "execute_result"
    }
   ],
   "source": [
    "df_company = df['company'].value_counts().reset_index()\n",
    "df_company.columns = ['company', 'count']\n",
    "df_company = df_company.sort_values(by=\"count\", ascending=False)\n",
    "df_company.head(10)"
   ]
  },
  {
   "cell_type": "markdown",
   "metadata": {},
   "source": [
    "## Aggregate sum of connections for positions"
   ]
  },
  {
   "cell_type": "code",
   "execution_count": 60,
   "metadata": {},
   "outputs": [
    {
     "data": {
      "text/html": [
       "<div>\n",
       "<style scoped>\n",
       "    .dataframe tbody tr th:only-of-type {\n",
       "        vertical-align: middle;\n",
       "    }\n",
       "\n",
       "    .dataframe tbody tr th {\n",
       "        vertical-align: top;\n",
       "    }\n",
       "\n",
       "    .dataframe thead th {\n",
       "        text-align: right;\n",
       "    }\n",
       "</style>\n",
       "<table border=\"1\" class=\"dataframe\">\n",
       "  <thead>\n",
       "    <tr style=\"text-align: right;\">\n",
       "      <th></th>\n",
       "      <th>position</th>\n",
       "      <th>count</th>\n",
       "    </tr>\n",
       "  </thead>\n",
       "  <tbody>\n",
       "    <tr>\n",
       "      <th>0</th>\n",
       "      <td>MBA Candidate</td>\n",
       "      <td>39</td>\n",
       "    </tr>\n",
       "    <tr>\n",
       "      <th>1</th>\n",
       "      <td>Board Member</td>\n",
       "      <td>22</td>\n",
       "    </tr>\n",
       "    <tr>\n",
       "      <th>2</th>\n",
       "      <td>CEO</td>\n",
       "      <td>17</td>\n",
       "    </tr>\n",
       "    <tr>\n",
       "      <th>3</th>\n",
       "      <td>Partner</td>\n",
       "      <td>12</td>\n",
       "    </tr>\n",
       "    <tr>\n",
       "      <th>4</th>\n",
       "      <td>Managing Partner</td>\n",
       "      <td>9</td>\n",
       "    </tr>\n",
       "    <tr>\n",
       "      <th>5</th>\n",
       "      <td>Associate</td>\n",
       "      <td>7</td>\n",
       "    </tr>\n",
       "    <tr>\n",
       "      <th>6</th>\n",
       "      <td>Product Manager</td>\n",
       "      <td>6</td>\n",
       "    </tr>\n",
       "    <tr>\n",
       "      <th>9</th>\n",
       "      <td>Founder &amp; CEO</td>\n",
       "      <td>5</td>\n",
       "    </tr>\n",
       "    <tr>\n",
       "      <th>10</th>\n",
       "      <td>Portfolio Manager</td>\n",
       "      <td>5</td>\n",
       "    </tr>\n",
       "    <tr>\n",
       "      <th>8</th>\n",
       "      <td>Founder</td>\n",
       "      <td>5</td>\n",
       "    </tr>\n",
       "  </tbody>\n",
       "</table>\n",
       "</div>"
      ],
      "text/plain": [
       "             position  count\n",
       "0       MBA Candidate     39\n",
       "1        Board Member     22\n",
       "2                 CEO     17\n",
       "3             Partner     12\n",
       "4    Managing Partner      9\n",
       "5           Associate      7\n",
       "6     Product Manager      6\n",
       "9       Founder & CEO      5\n",
       "10  Portfolio Manager      5\n",
       "8             Founder      5"
      ]
     },
     "execution_count": 60,
     "metadata": {},
     "output_type": "execute_result"
    }
   ],
   "source": [
    "df_position = df['position'].value_counts().reset_index()\n",
    "df_position.columns = ['position', 'count']\n",
    "df_position = df_position.sort_values(by=\"count\", ascending=False)\n",
    "df_position.head(10)"
   ]
  },
  {
   "cell_type": "markdown",
   "metadata": {},
   "source": [
    "## Creating the network"
   ]
  },
  {
   "cell_type": "code",
   "execution_count": 61,
   "metadata": {},
   "outputs": [
    {
     "name": "stdout",
     "output_type": "stream",
     "text": [
      "(566, 2)\n",
      "(10, 2)\n"
     ]
    }
   ],
   "source": [
    "print(df_company.shape)\n",
    "# remove every company that I don't know more than 3 people. \n",
    "df_company_reduced = df_company.loc[df_company['count']>=4]\n",
    "print(df_company_reduced.shape)"
   ]
  },
  {
   "cell_type": "code",
   "execution_count": 62,
   "metadata": {},
   "outputs": [
    {
     "name": "stdout",
     "output_type": "stream",
     "text": [
      "(615, 2)\n",
      "(13, 2)\n"
     ]
    }
   ],
   "source": [
    "print(df_position.shape)\n",
    "df_position_reduced = df_position.loc[df_position['count']>=4]\n",
    "print(df_position_reduced.shape)"
   ]
  },
  {
   "cell_type": "code",
   "execution_count": 63,
   "metadata": {},
   "outputs": [],
   "source": [
    "# initialize graph for my connections' companies\n",
    "g = nx.Graph()\n",
    "g.add_node('Camilo Perez de Arce') # intialize yourself as central\n",
    "\n",
    "# use iterrows tp iterate through the data frame\n",
    "for _, row in df_company_reduced.iterrows():\n",
    "\n",
    "  # store company name and count\n",
    "  company = row['company']\n",
    "  count = row['count']\n",
    "\n",
    "  title = f\"<b>{company}</b> – {count}\"\n",
    "  positions = set([x for x in df[company == df['company']]['position']])\n",
    "  positions = ''.join('<li>{}</li>'.format(x) for x in positions)\n",
    "\n",
    "  position_list = f\"<ul>{positions}</ul>\"\n",
    "  hover_info = title + position_list\n",
    "\n",
    "  g.add_node(company, size=count*2, title=hover_info, color='#33ACFF')\n",
    "  g.add_edge('Camilo Perez de Arce', company, color='grey')\n",
    "\n",
    "# generate the graph\n",
    "nt = net.Network(height='700px', width='700px', bgcolor=\"black\", font_color='white')\n",
    "nt.from_nx(g)\n",
    "nt.hrepulsion()\n",
    "# more customization https://tinyurl.com/yf5lvvdm\n",
    "nt.show('company_graph.html')\n",
    "# display(HTML('company_graph.html'))"
   ]
  },
  {
   "cell_type": "code",
   "execution_count": 64,
   "metadata": {},
   "outputs": [],
   "source": [
    "# initialize graph for my connections' positions\n",
    "g = nx.Graph()\n",
    "g.add_node('Camilo Perez de Arce') # intialize yourself as central\n",
    "\n",
    "# use iterrows tp iterate through the data frame\n",
    "for _, row in df_position_reduced.iterrows():\n",
    "\n",
    "  # store company name and count\n",
    "  position = row['position']\n",
    "  count = row['count']\n",
    "\n",
    "  title = f\"<b>{position}</b> – {count}\"\n",
    "  positions = set([x for x in df[position == df['company']]['position']])\n",
    "  positions = ''.join('<li>{}</li>'.format(x) for x in positions)\n",
    "\n",
    "  position_list = f\"<ul>{positions}</ul>\"\n",
    "  hover_info = title + position_list\n",
    "\n",
    "  g.add_node(position, size=count*2, title=hover_info, color='#98fb98')\n",
    "  g.add_edge('Camilo Perez de Arce', position, color='white')\n",
    "\n",
    "# generate the graph\n",
    "nt = net.Network(height='700px', width='700px', bgcolor=\"black\", font_color='white')\n",
    "nt.from_nx(g)\n",
    "nt.hrepulsion()\n",
    "# more customization https://tinyurl.com/yf5lvvdm\n",
    "nt.show('position_graph.html')\n",
    "# display(HTML('company_graph.html'))"
   ]
  },
  {
   "cell_type": "code",
   "execution_count": 65,
   "metadata": {},
   "outputs": [
    {
     "name": "stdout",
     "output_type": "stream",
     "text": [
      "                               company                        position  \\\n",
      "0          Home365 Property Management       Principal Product Manager   \n",
      "1                               Canter             Founder & Principal   \n",
      "2                     American Express                 Finance Manager   \n",
      "3                   Zutto Technologies    Director de nuevos proyectos   \n",
      "4                         Amateur Fund                        Investor   \n",
      "5                              KPMG US                         Manager   \n",
      "6                        .406 Ventures  Venture Capital Student Fellow   \n",
      "7  Suntory PepsiCo Beverage (Thailand)      Financial Analysis Manager   \n",
      "8                              Arrived     Co-founder | COO at Arrived   \n",
      "9          Coordinadora de Tanques SAS    Director Of Customer Service   \n",
      "\n",
      "  connected_on    user  \n",
      "0   2023-02-14  Camilo  \n",
      "1   2023-02-07  Camilo  \n",
      "2   2023-02-07  Camilo  \n",
      "3   2023-02-06  Camilo  \n",
      "4   2023-02-05  Camilo  \n",
      "5   2023-02-04  Camilo  \n",
      "6   2023-02-02  Camilo  \n",
      "7   2023-02-02  Camilo  \n",
      "8   2023-02-02  Camilo  \n",
      "9   2023-02-01  Camilo  \n"
     ]
    }
   ],
   "source": [
    "df['user'] = 'Camilo'\n",
    "print(df.head(10))"
   ]
  },
  {
   "cell_type": "code",
   "execution_count": 66,
   "metadata": {},
   "outputs": [],
   "source": [
    "df.to_csv('LinkedIn_Camilo_Data.csv', index=False)"
   ]
  },
  {
   "cell_type": "code",
   "execution_count": null,
   "metadata": {},
   "outputs": [],
   "source": []
  },
  {
   "cell_type": "code",
   "execution_count": null,
   "metadata": {},
   "outputs": [],
   "source": []
  }
 ],
 "metadata": {
  "kernelspec": {
   "display_name": "base",
   "language": "python",
   "name": "python3"
  },
  "language_info": {
   "codemirror_mode": {
    "name": "ipython",
    "version": 3
   },
   "file_extension": ".py",
   "mimetype": "text/x-python",
   "name": "python",
   "nbconvert_exporter": "python",
   "pygments_lexer": "ipython3",
   "version": "3.9.13"
  },
  "vscode": {
   "interpreter": {
    "hash": "8b5a56c868af681f12af5d6461e4b0e184841bd5d58e03f1e772403ba6bf7368"
   }
  }
 },
 "nbformat": 4,
 "nbformat_minor": 4
}
